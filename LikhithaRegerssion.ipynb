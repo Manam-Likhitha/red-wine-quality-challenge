{
  "nbformat": 4,
  "nbformat_minor": 0,
  "metadata": {
    "colab": {
      "name": "LikhithaRegerssion.ipynb",
      "provenance": [],
      "collapsed_sections": [],
      "toc_visible": true
    },
    "kernelspec": {
      "name": "python3",
      "display_name": "Python 3"
    }
  },
  "cells": [
    {
      "cell_type": "markdown",
      "metadata": {
        "id": "kS6jZvYsi53P",
        "colab_type": "text"
      },
      "source": [
        "#Data Preprocessing"
      ]
    },
    {
      "cell_type": "code",
      "metadata": {
        "id": "zyKFg1yi9Xe-",
        "colab_type": "code",
        "colab": {}
      },
      "source": [
        "import pandas as pd\n",
        "import numpy as np\n"
      ],
      "execution_count": null,
      "outputs": []
    },
    {
      "cell_type": "code",
      "metadata": {
        "id": "lHMVuRzXFXpN",
        "colab_type": "code",
        "colab": {}
      },
      "source": [
        "data = pd.read_csv('/content/datasets_4458_8204_winequality-red.csv')"
      ],
      "execution_count": null,
      "outputs": []
    },
    {
      "cell_type": "code",
      "metadata": {
        "id": "YjArkvNWFdQ9",
        "colab_type": "code",
        "colab": {
          "base_uri": "https://localhost:8080/",
          "height": 470
        },
        "outputId": "74d5434f-6e3a-4930-f2b6-4fa47e40cb1c"
      },
      "source": [
        "data"
      ],
      "execution_count": null,
      "outputs": [
        {
          "output_type": "execute_result",
          "data": {
            "text/html": [
              "<div>\n",
              "<style scoped>\n",
              "    .dataframe tbody tr th:only-of-type {\n",
              "        vertical-align: middle;\n",
              "    }\n",
              "\n",
              "    .dataframe tbody tr th {\n",
              "        vertical-align: top;\n",
              "    }\n",
              "\n",
              "    .dataframe thead th {\n",
              "        text-align: right;\n",
              "    }\n",
              "</style>\n",
              "<table border=\"1\" class=\"dataframe\">\n",
              "  <thead>\n",
              "    <tr style=\"text-align: right;\">\n",
              "      <th></th>\n",
              "      <th>fixed acidity</th>\n",
              "      <th>volatile acidity</th>\n",
              "      <th>citric acid</th>\n",
              "      <th>residual sugar</th>\n",
              "      <th>chlorides</th>\n",
              "      <th>free sulfur dioxide</th>\n",
              "      <th>total sulfur dioxide</th>\n",
              "      <th>density</th>\n",
              "      <th>pH</th>\n",
              "      <th>sulphates</th>\n",
              "      <th>alcohol</th>\n",
              "      <th>quality</th>\n",
              "    </tr>\n",
              "  </thead>\n",
              "  <tbody>\n",
              "    <tr>\n",
              "      <th>0</th>\n",
              "      <td>7.4</td>\n",
              "      <td>0.700</td>\n",
              "      <td>0.00</td>\n",
              "      <td>1.9</td>\n",
              "      <td>0.076</td>\n",
              "      <td>11.0</td>\n",
              "      <td>34.0</td>\n",
              "      <td>0.99780</td>\n",
              "      <td>3.51</td>\n",
              "      <td>0.56</td>\n",
              "      <td>9.4</td>\n",
              "      <td>5</td>\n",
              "    </tr>\n",
              "    <tr>\n",
              "      <th>1</th>\n",
              "      <td>7.8</td>\n",
              "      <td>0.880</td>\n",
              "      <td>0.00</td>\n",
              "      <td>2.6</td>\n",
              "      <td>0.098</td>\n",
              "      <td>25.0</td>\n",
              "      <td>67.0</td>\n",
              "      <td>0.99680</td>\n",
              "      <td>3.20</td>\n",
              "      <td>0.68</td>\n",
              "      <td>9.8</td>\n",
              "      <td>5</td>\n",
              "    </tr>\n",
              "    <tr>\n",
              "      <th>2</th>\n",
              "      <td>7.8</td>\n",
              "      <td>0.760</td>\n",
              "      <td>0.04</td>\n",
              "      <td>2.3</td>\n",
              "      <td>0.092</td>\n",
              "      <td>15.0</td>\n",
              "      <td>54.0</td>\n",
              "      <td>0.99700</td>\n",
              "      <td>3.26</td>\n",
              "      <td>0.65</td>\n",
              "      <td>9.8</td>\n",
              "      <td>5</td>\n",
              "    </tr>\n",
              "    <tr>\n",
              "      <th>3</th>\n",
              "      <td>11.2</td>\n",
              "      <td>0.280</td>\n",
              "      <td>0.56</td>\n",
              "      <td>1.9</td>\n",
              "      <td>0.075</td>\n",
              "      <td>17.0</td>\n",
              "      <td>60.0</td>\n",
              "      <td>0.99800</td>\n",
              "      <td>3.16</td>\n",
              "      <td>0.58</td>\n",
              "      <td>9.8</td>\n",
              "      <td>6</td>\n",
              "    </tr>\n",
              "    <tr>\n",
              "      <th>4</th>\n",
              "      <td>7.4</td>\n",
              "      <td>0.700</td>\n",
              "      <td>0.00</td>\n",
              "      <td>1.9</td>\n",
              "      <td>0.076</td>\n",
              "      <td>11.0</td>\n",
              "      <td>34.0</td>\n",
              "      <td>0.99780</td>\n",
              "      <td>3.51</td>\n",
              "      <td>0.56</td>\n",
              "      <td>9.4</td>\n",
              "      <td>5</td>\n",
              "    </tr>\n",
              "    <tr>\n",
              "      <th>...</th>\n",
              "      <td>...</td>\n",
              "      <td>...</td>\n",
              "      <td>...</td>\n",
              "      <td>...</td>\n",
              "      <td>...</td>\n",
              "      <td>...</td>\n",
              "      <td>...</td>\n",
              "      <td>...</td>\n",
              "      <td>...</td>\n",
              "      <td>...</td>\n",
              "      <td>...</td>\n",
              "      <td>...</td>\n",
              "    </tr>\n",
              "    <tr>\n",
              "      <th>1594</th>\n",
              "      <td>6.2</td>\n",
              "      <td>0.600</td>\n",
              "      <td>0.08</td>\n",
              "      <td>2.0</td>\n",
              "      <td>0.090</td>\n",
              "      <td>32.0</td>\n",
              "      <td>44.0</td>\n",
              "      <td>0.99490</td>\n",
              "      <td>3.45</td>\n",
              "      <td>0.58</td>\n",
              "      <td>10.5</td>\n",
              "      <td>5</td>\n",
              "    </tr>\n",
              "    <tr>\n",
              "      <th>1595</th>\n",
              "      <td>5.9</td>\n",
              "      <td>0.550</td>\n",
              "      <td>0.10</td>\n",
              "      <td>2.2</td>\n",
              "      <td>0.062</td>\n",
              "      <td>39.0</td>\n",
              "      <td>51.0</td>\n",
              "      <td>0.99512</td>\n",
              "      <td>3.52</td>\n",
              "      <td>0.76</td>\n",
              "      <td>11.2</td>\n",
              "      <td>6</td>\n",
              "    </tr>\n",
              "    <tr>\n",
              "      <th>1596</th>\n",
              "      <td>6.3</td>\n",
              "      <td>0.510</td>\n",
              "      <td>0.13</td>\n",
              "      <td>2.3</td>\n",
              "      <td>0.076</td>\n",
              "      <td>29.0</td>\n",
              "      <td>40.0</td>\n",
              "      <td>0.99574</td>\n",
              "      <td>3.42</td>\n",
              "      <td>0.75</td>\n",
              "      <td>11.0</td>\n",
              "      <td>6</td>\n",
              "    </tr>\n",
              "    <tr>\n",
              "      <th>1597</th>\n",
              "      <td>5.9</td>\n",
              "      <td>0.645</td>\n",
              "      <td>0.12</td>\n",
              "      <td>2.0</td>\n",
              "      <td>0.075</td>\n",
              "      <td>32.0</td>\n",
              "      <td>44.0</td>\n",
              "      <td>0.99547</td>\n",
              "      <td>3.57</td>\n",
              "      <td>0.71</td>\n",
              "      <td>10.2</td>\n",
              "      <td>5</td>\n",
              "    </tr>\n",
              "    <tr>\n",
              "      <th>1598</th>\n",
              "      <td>6.0</td>\n",
              "      <td>0.310</td>\n",
              "      <td>0.47</td>\n",
              "      <td>3.6</td>\n",
              "      <td>0.067</td>\n",
              "      <td>18.0</td>\n",
              "      <td>42.0</td>\n",
              "      <td>0.99549</td>\n",
              "      <td>3.39</td>\n",
              "      <td>0.66</td>\n",
              "      <td>11.0</td>\n",
              "      <td>6</td>\n",
              "    </tr>\n",
              "  </tbody>\n",
              "</table>\n",
              "<p>1599 rows × 12 columns</p>\n",
              "</div>"
            ],
            "text/plain": [
              "      fixed acidity  volatile acidity  citric acid  ...  sulphates  alcohol  quality\n",
              "0               7.4             0.700         0.00  ...       0.56      9.4        5\n",
              "1               7.8             0.880         0.00  ...       0.68      9.8        5\n",
              "2               7.8             0.760         0.04  ...       0.65      9.8        5\n",
              "3              11.2             0.280         0.56  ...       0.58      9.8        6\n",
              "4               7.4             0.700         0.00  ...       0.56      9.4        5\n",
              "...             ...               ...          ...  ...        ...      ...      ...\n",
              "1594            6.2             0.600         0.08  ...       0.58     10.5        5\n",
              "1595            5.9             0.550         0.10  ...       0.76     11.2        6\n",
              "1596            6.3             0.510         0.13  ...       0.75     11.0        6\n",
              "1597            5.9             0.645         0.12  ...       0.71     10.2        5\n",
              "1598            6.0             0.310         0.47  ...       0.66     11.0        6\n",
              "\n",
              "[1599 rows x 12 columns]"
            ]
          },
          "metadata": {
            "tags": []
          },
          "execution_count": 3
        }
      ]
    },
    {
      "cell_type": "code",
      "metadata": {
        "id": "ou9kjUheIoJK",
        "colab_type": "code",
        "colab": {
          "base_uri": "https://localhost:8080/",
          "height": 35
        },
        "outputId": "702ad203-8bd6-4669-8177-08a750227f23"
      },
      "source": [
        "data['quality'].unique()"
      ],
      "execution_count": null,
      "outputs": [
        {
          "output_type": "execute_result",
          "data": {
            "text/plain": [
              "array([5, 6, 7, 4, 8, 3])"
            ]
          },
          "metadata": {
            "tags": []
          },
          "execution_count": 4
        }
      ]
    },
    {
      "cell_type": "markdown",
      "metadata": {
        "id": "EgNxi95ijMy3",
        "colab_type": "text"
      },
      "source": [
        "#Separate Features and Target\n"
      ]
    },
    {
      "cell_type": "code",
      "metadata": {
        "id": "7AQ9V-OpItXp",
        "colab_type": "code",
        "colab": {}
      },
      "source": [
        "x = data.iloc[:,:-1].values\n",
        "y = data.iloc[:, -1].values"
      ],
      "execution_count": null,
      "outputs": []
    },
    {
      "cell_type": "code",
      "metadata": {
        "id": "5Txnh7pC0A3A",
        "colab_type": "code",
        "colab": {
          "base_uri": "https://localhost:8080/",
          "height": 139
        },
        "outputId": "9b9107ae-af81-4b36-a1c7-7f97cc9e3271"
      },
      "source": [
        "x"
      ],
      "execution_count": null,
      "outputs": [
        {
          "output_type": "execute_result",
          "data": {
            "text/plain": [
              "array([[ 7.4  ,  0.7  ,  0.   , ...,  3.51 ,  0.56 ,  9.4  ],\n",
              "       [ 7.8  ,  0.88 ,  0.   , ...,  3.2  ,  0.68 ,  9.8  ],\n",
              "       [ 7.8  ,  0.76 ,  0.04 , ...,  3.26 ,  0.65 ,  9.8  ],\n",
              "       ...,\n",
              "       [ 6.3  ,  0.51 ,  0.13 , ...,  3.42 ,  0.75 , 11.   ],\n",
              "       [ 5.9  ,  0.645,  0.12 , ...,  3.57 ,  0.71 , 10.2  ],\n",
              "       [ 6.   ,  0.31 ,  0.47 , ...,  3.39 ,  0.66 , 11.   ]])"
            ]
          },
          "metadata": {
            "tags": []
          },
          "execution_count": 6
        }
      ]
    },
    {
      "cell_type": "code",
      "metadata": {
        "id": "AHvBJhU00G6C",
        "colab_type": "code",
        "colab": {
          "base_uri": "https://localhost:8080/",
          "height": 35
        },
        "outputId": "6889f0ad-3168-40ea-a71c-b9847db5c9c8"
      },
      "source": [
        "y"
      ],
      "execution_count": null,
      "outputs": [
        {
          "output_type": "execute_result",
          "data": {
            "text/plain": [
              "array([5, 5, 5, ..., 6, 5, 6])"
            ]
          },
          "metadata": {
            "tags": []
          },
          "execution_count": 7
        }
      ]
    },
    {
      "cell_type": "markdown",
      "metadata": {
        "id": "3nBOrr6q8kCs",
        "colab_type": "text"
      },
      "source": [
        "#Splitting of data into test and train "
      ]
    },
    {
      "cell_type": "code",
      "metadata": {
        "id": "p5bqvBH45wum",
        "colab_type": "code",
        "colab": {}
      },
      "source": [
        "from sklearn.model_selection import train_test_split"
      ],
      "execution_count": null,
      "outputs": []
    },
    {
      "cell_type": "code",
      "metadata": {
        "id": "NPr4dGN-5_wj",
        "colab_type": "code",
        "colab": {}
      },
      "source": [
        "x_train, x_test, y_train, y_test = train_test_split(x, y, test_size=0.2)"
      ],
      "execution_count": null,
      "outputs": []
    },
    {
      "cell_type": "code",
      "metadata": {
        "id": "4vXalqle1mk6",
        "colab_type": "code",
        "colab": {
          "base_uri": "https://localhost:8080/",
          "height": 35
        },
        "outputId": "c278335f-341a-4584-f2dc-7f1ae6e6d2e6"
      },
      "source": [
        "y_train"
      ],
      "execution_count": null,
      "outputs": [
        {
          "output_type": "execute_result",
          "data": {
            "text/plain": [
              "array([6, 5, 6, ..., 6, 5, 5])"
            ]
          },
          "metadata": {
            "tags": []
          },
          "execution_count": 10
        }
      ]
    },
    {
      "cell_type": "code",
      "metadata": {
        "id": "LU_bMfFc14-t",
        "colab_type": "code",
        "colab": {
          "base_uri": "https://localhost:8080/",
          "height": 277
        },
        "outputId": "1e5b7f2b-7299-4030-b764-a0ebdc4fc16f"
      },
      "source": [
        "y_test"
      ],
      "execution_count": null,
      "outputs": [
        {
          "output_type": "execute_result",
          "data": {
            "text/plain": [
              "array([3, 6, 6, 5, 5, 5, 6, 5, 5, 7, 5, 6, 6, 5, 6, 6, 5, 7, 5, 6, 5, 5,\n",
              "       5, 6, 5, 5, 6, 5, 5, 7, 7, 5, 6, 6, 5, 6, 6, 5, 5, 4, 5, 6, 5, 5,\n",
              "       3, 6, 5, 5, 5, 4, 5, 6, 4, 5, 6, 6, 5, 6, 7, 5, 6, 7, 5, 5, 6, 6,\n",
              "       6, 6, 5, 7, 6, 6, 5, 4, 6, 5, 5, 6, 5, 6, 5, 6, 5, 7, 6, 6, 5, 5,\n",
              "       5, 6, 5, 5, 5, 7, 7, 6, 7, 6, 5, 6, 6, 6, 6, 5, 5, 5, 6, 5, 5, 5,\n",
              "       7, 5, 5, 6, 5, 6, 7, 7, 5, 5, 8, 6, 6, 6, 5, 5, 6, 6, 7, 5, 7, 5,\n",
              "       5, 6, 4, 7, 5, 6, 6, 5, 6, 5, 6, 5, 5, 6, 7, 5, 5, 7, 6, 6, 8, 5,\n",
              "       6, 5, 6, 6, 7, 6, 5, 5, 6, 6, 5, 6, 5, 5, 5, 6, 7, 5, 5, 6, 5, 7,\n",
              "       5, 6, 5, 5, 6, 5, 6, 7, 5, 6, 5, 6, 5, 5, 8, 5, 5, 6, 5, 6, 7, 5,\n",
              "       6, 5, 5, 6, 5, 6, 5, 5, 5, 6, 6, 5, 4, 7, 5, 6, 7, 6, 7, 6, 6, 7,\n",
              "       6, 6, 5, 6, 6, 7, 6, 5, 6, 8, 6, 5, 6, 6, 6, 6, 6, 5, 3, 3, 6, 7,\n",
              "       5, 5, 7, 5, 6, 6, 6, 6, 5, 6, 5, 6, 6, 5, 5, 6, 6, 4, 5, 5, 5, 5,\n",
              "       5, 6, 6, 6, 5, 5, 7, 6, 6, 5, 6, 5, 5, 6, 4, 5, 5, 5, 7, 7, 6, 4,\n",
              "       5, 5, 6, 6, 6, 4, 7, 6, 5, 6, 5, 5, 6, 5, 6, 5, 6, 5, 5, 7, 8, 6,\n",
              "       5, 5, 6, 7, 6, 5, 5, 5, 6, 6, 6, 6])"
            ]
          },
          "metadata": {
            "tags": []
          },
          "execution_count": 11
        }
      ]
    },
    {
      "cell_type": "markdown",
      "metadata": {
        "id": "BRL9vKQa8yRG",
        "colab_type": "text"
      },
      "source": [
        "#Standardization"
      ]
    },
    {
      "cell_type": "code",
      "metadata": {
        "id": "3f6bm1bf6Iz_",
        "colab_type": "code",
        "colab": {}
      },
      "source": [
        "from sklearn.preprocessing import StandardScaler"
      ],
      "execution_count": null,
      "outputs": []
    },
    {
      "cell_type": "code",
      "metadata": {
        "id": "0iv7wDcH8BmP",
        "colab_type": "code",
        "colab": {}
      },
      "source": [
        "ptrain = y_train.reshape(len(y_train), 1)\n",
        "ptest = y_test.reshape(len(y_test), 1)"
      ],
      "execution_count": null,
      "outputs": []
    },
    {
      "cell_type": "code",
      "metadata": {
        "id": "JiGIPSBT6NQY",
        "colab_type": "code",
        "colab": {}
      },
      "source": [
        "x_sc = StandardScaler()\n",
        "y_sc = StandardScaler()"
      ],
      "execution_count": null,
      "outputs": []
    },
    {
      "cell_type": "code",
      "metadata": {
        "id": "e8BVHW-O6i03",
        "colab_type": "code",
        "colab": {}
      },
      "source": [
        "xp_train = x_sc.fit_transform(x_train)\n",
        "yp_train = y_sc.fit_transform(ptrain)"
      ],
      "execution_count": null,
      "outputs": []
    },
    {
      "cell_type": "code",
      "metadata": {
        "id": "QQNcU7t6-6Rf",
        "colab_type": "code",
        "colab": {}
      },
      "source": [
        "xp_test = x_sc.transform(x_test)\n",
        "yp_test = y_sc.transform(ptest)"
      ],
      "execution_count": null,
      "outputs": []
    },
    {
      "cell_type": "code",
      "metadata": {
        "id": "8S56SEdG649b",
        "colab_type": "code",
        "colab": {
          "base_uri": "https://localhost:8080/",
          "height": 35
        },
        "outputId": "7ff751cc-1c2d-4503-83ac-ab546b32b42c"
      },
      "source": [
        "len(xp_train)"
      ],
      "execution_count": null,
      "outputs": [
        {
          "output_type": "execute_result",
          "data": {
            "text/plain": [
              "1279"
            ]
          },
          "metadata": {
            "tags": []
          },
          "execution_count": 17
        }
      ]
    },
    {
      "cell_type": "code",
      "metadata": {
        "id": "Z53e7r5h-fr2",
        "colab_type": "code",
        "colab": {
          "base_uri": "https://localhost:8080/",
          "height": 243
        },
        "outputId": "6e3f5650-0134-4946-872d-a21b501c4d33"
      },
      "source": [
        "xp_train"
      ],
      "execution_count": null,
      "outputs": [
        {
          "output_type": "execute_result",
          "data": {
            "text/plain": [
              "array([[ 1.90302515, -1.62367409,  1.54401494, ..., -1.11176211,\n",
              "         0.25802721, -0.49658064],\n",
              "       [ 1.439169  , -1.45746441,  0.92266825, ..., -1.17731666,\n",
              "        -0.69217413, -0.78362191],\n",
              "       [ 0.85934882, -0.07238373, -0.4235829 , ..., -0.52177116,\n",
              "        -0.4546238 ,  0.07750189],\n",
              "       ...,\n",
              "       [-0.24230953,  0.12152756, -1.09670848, ...,  0.33043799,\n",
              "         0.07986446,  0.26886273],\n",
              "       [-0.24230953, -0.95883536, -0.32002512, ..., -0.25955296,\n",
              "        -0.4546238 , -0.87930233],\n",
              "       [-0.35827357,  2.42076149, -0.37180401, ...,  0.33043799,\n",
              "        -1.28604997,  0.46022358]])"
            ]
          },
          "metadata": {
            "tags": []
          },
          "execution_count": 18
        }
      ]
    },
    {
      "cell_type": "code",
      "metadata": {
        "id": "UwUls98Y8gjF",
        "colab_type": "code",
        "colab": {
          "base_uri": "https://localhost:8080/",
          "height": 35
        },
        "outputId": "7118c287-89e6-4a48-8761-2a46b19861d7"
      },
      "source": [
        "len(xp_test)"
      ],
      "execution_count": null,
      "outputs": [
        {
          "output_type": "execute_result",
          "data": {
            "text/plain": [
              "320"
            ]
          },
          "metadata": {
            "tags": []
          },
          "execution_count": 19
        }
      ]
    },
    {
      "cell_type": "code",
      "metadata": {
        "id": "8Swwt5S6-jO6",
        "colab_type": "code",
        "colab": {
          "base_uri": "https://localhost:8080/",
          "height": 243
        },
        "outputId": "4f8e56c4-9af0-42ae-e844-211da6c2ccfc"
      },
      "source": [
        "xp_test"
      ],
      "execution_count": null,
      "outputs": [
        {
          "output_type": "execute_result",
          "data": {
            "text/plain": [
              "array([[ 1.90302515,  0.31543886,  2.01002495, ..., -0.39066206,\n",
              "        -0.51401138, -1.35770444],\n",
              "       [-1.1120398 ,  1.89443083, -1.25204515, ...,  1.96930173,\n",
              "        -0.98911205,  2.18247118],\n",
              "       [-0.64818366,  0.03842272, -0.68247735, ...,  0.26488344,\n",
              "        -0.27646104,  1.60838864],\n",
              "       ...,\n",
              "       [ 2.65679138, -0.12778696,  1.44045716, ..., -1.43953486,\n",
              "         0.13925204,  0.46022358],\n",
              "       [-0.18432751, -0.12778696,  0.61199491, ...,  0.78931984,\n",
              "        -0.21707346,  0.26886273],\n",
              "       [-0.06836347,  2.64237439, -0.94137181, ...,  0.06821979,\n",
              "        -0.63278655, -1.35770444]])"
            ]
          },
          "metadata": {
            "tags": []
          },
          "execution_count": 20
        }
      ]
    },
    {
      "cell_type": "code",
      "metadata": {
        "id": "84nLB-zs8xg6",
        "colab_type": "code",
        "colab": {
          "base_uri": "https://localhost:8080/",
          "height": 139
        },
        "outputId": "c5c77623-1f21-4de1-f941-5bb93da7fddf"
      },
      "source": [
        "yp_train"
      ],
      "execution_count": null,
      "outputs": [
        {
          "output_type": "execute_result",
          "data": {
            "text/plain": [
              "array([[ 0.44867028],\n",
              "       [-0.80154603],\n",
              "       [ 0.44867028],\n",
              "       ...,\n",
              "       [ 0.44867028],\n",
              "       [-0.80154603],\n",
              "       [-0.80154603]])"
            ]
          },
          "metadata": {
            "tags": []
          },
          "execution_count": 21
        }
      ]
    },
    {
      "cell_type": "markdown",
      "metadata": {
        "id": "kClzFR_f8_09",
        "colab_type": "text"
      },
      "source": [
        "#Train on different algorithms"
      ]
    },
    {
      "cell_type": "code",
      "metadata": {
        "id": "k3ppA3BY91l8",
        "colab_type": "code",
        "colab": {}
      },
      "source": [
        "from sklearn.ensemble import RandomForestRegressor\n",
        "from sklearn.linear_model import LinearRegression\n",
        "from sklearn.tree import DecisionTreeRegressor\n",
        "from sklearn.svm import SVR\n",
        "from sklearn.preprocessing import PolynomialFeatures"
      ],
      "execution_count": null,
      "outputs": []
    },
    {
      "cell_type": "code",
      "metadata": {
        "id": "3MlRAgGk-LqC",
        "colab_type": "code",
        "colab": {}
      },
      "source": [
        "r_reg = RandomForestRegressor()\n",
        "l_reg = LinearRegression()\n",
        "d_reg = DecisionTreeRegressor()\n",
        "s_reg = SVR()\n",
        "p_reg = LinearRegression()"
      ],
      "execution_count": null,
      "outputs": []
    },
    {
      "cell_type": "code",
      "metadata": {
        "id": "EIW6RmYjQEJr",
        "colab_type": "code",
        "colab": {}
      },
      "source": [
        "x_pol = PolynomialFeatures(degree=5)\n",
        "x_pol = x_pol.fit_transform(xp_train)"
      ],
      "execution_count": null,
      "outputs": []
    },
    {
      "cell_type": "code",
      "metadata": {
        "id": "jvfL_3nJZSP8",
        "colab_type": "code",
        "colab": {}
      },
      "source": [
        "temp = PolynomialFeatures(degree=5)\n",
        "temp = temp.fit_transform(xp_test)"
      ],
      "execution_count": null,
      "outputs": []
    },
    {
      "cell_type": "code",
      "metadata": {
        "id": "O_Pd-bAw-X8H",
        "colab_type": "code",
        "colab": {
          "base_uri": "https://localhost:8080/",
          "height": 124
        },
        "outputId": "109e2aeb-fb66-450b-e6c4-84ed695d2632"
      },
      "source": [
        "r_reg.fit(xp_train, yp_train)\n",
        "l_reg.fit(xp_train, yp_train)\n",
        "d_reg.fit(xp_train, yp_train)\n",
        "s_reg.fit(xp_train, yp_train)\n",
        "p_reg.fit(x_pol, yp_train)"
      ],
      "execution_count": null,
      "outputs": [
        {
          "output_type": "stream",
          "text": [
            "/usr/local/lib/python3.6/dist-packages/ipykernel_launcher.py:1: DataConversionWarning: A column-vector y was passed when a 1d array was expected. Please change the shape of y to (n_samples,), for example using ravel().\n",
            "  \"\"\"Entry point for launching an IPython kernel.\n",
            "/usr/local/lib/python3.6/dist-packages/sklearn/utils/validation.py:760: DataConversionWarning: A column-vector y was passed when a 1d array was expected. Please change the shape of y to (n_samples, ), for example using ravel().\n",
            "  y = column_or_1d(y, warn=True)\n"
          ],
          "name": "stderr"
        },
        {
          "output_type": "execute_result",
          "data": {
            "text/plain": [
              "LinearRegression(copy_X=True, fit_intercept=True, n_jobs=None, normalize=False)"
            ]
          },
          "metadata": {
            "tags": []
          },
          "execution_count": 26
        }
      ]
    },
    {
      "cell_type": "code",
      "metadata": {
        "id": "U3TNUx6s-gJg",
        "colab_type": "code",
        "colab": {}
      },
      "source": [
        "r_pred = r_reg.predict(xp_test)\n",
        "l_pred = l_reg.predict(xp_test)\n",
        "d_pred = d_reg.predict(xp_test)\n",
        "s_pred = s_reg.predict(xp_test)\n",
        "p_pred = p_reg.predict(temp)"
      ],
      "execution_count": null,
      "outputs": []
    },
    {
      "cell_type": "markdown",
      "metadata": {
        "id": "nwEP4oon9IIO",
        "colab_type": "text"
      },
      "source": [
        "#Result"
      ]
    },
    {
      "cell_type": "code",
      "metadata": {
        "id": "8LEhn407_U6L",
        "colab_type": "code",
        "colab": {}
      },
      "source": [
        "\n",
        "from sklearn.metrics import r2_score"
      ],
      "execution_count": null,
      "outputs": []
    },
    {
      "cell_type": "code",
      "metadata": {
        "id": "1sZwzfREG3D0",
        "colab_type": "code",
        "colab": {}
      },
      "source": [
        "r = r2_score(yp_test, r_pred)\n",
        "l = r2_score(yp_test, l_pred)\n",
        "d = r2_score(yp_test, d_pred)\n",
        "s = r2_score(yp_test, s_pred)\n",
        "p = r2_score(yp_test, p_pred)"
      ],
      "execution_count": null,
      "outputs": []
    },
    {
      "cell_type": "code",
      "metadata": {
        "id": "pO6BqtCtHHbD",
        "colab_type": "code",
        "colab": {
          "base_uri": "https://localhost:8080/",
          "height": 35
        },
        "outputId": "a28988de-bdd2-4017-f9b0-bc0bed9445a0"
      },
      "source": [
        "print(r, l, d, s, p)"
      ],
      "execution_count": null,
      "outputs": [
        {
          "output_type": "stream",
          "text": [
            "0.4629014261569191 0.34537535718694123 0.056864689695631965 0.3404175181257688 -1430.037071221998\n"
          ],
          "name": "stdout"
        }
      ]
    },
    {
      "cell_type": "markdown",
      "metadata": {
        "id": "F810hXqwBe9_",
        "colab_type": "text"
      },
      "source": [
        "#Conclusion"
      ]
    },
    {
      "cell_type": "markdown",
      "metadata": {
        "id": "QtESQvvZFMAG",
        "colab_type": "text"
      },
      "source": [
        "###We have solved it using regression techique\n",
        "\n",
        "\n",
        "\n",
        "*   As we have observed RandomForest is giving more efficiency \n",
        "    than any other algorithmic techniques\n",
        "    ,so we can conclude that RandomForest is the best algorithmic       technique for this data set.\n"
      ]
    }
  ]
}